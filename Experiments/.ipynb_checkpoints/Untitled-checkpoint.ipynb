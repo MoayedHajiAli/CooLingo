{
 "cells": [
  {
   "cell_type": "code",
   "execution_count": 8,
   "id": "07676dcb",
   "metadata": {},
   "outputs": [
    {
     "name": "stdout",
     "output_type": "stream",
     "text": [
      "The autoreload extension is already loaded. To reload it, use:\n",
      "  %reload_ext autoreload\n"
     ]
    }
   ],
   "source": [
    "%load_ext autoreload\n",
    "%autoreload 2\n",
    "\n",
    "from text_to_speach_utils.text_to_speach import convertTextToSpeach\n",
    "import IPython\n",
    "import os\n",
    "\n",
    "try:\n",
    "    import TTS\n",
    "except:\n",
    "    !pip install tts\n",
    "    import TTS\n"
   ]
  },
  {
   "cell_type": "code",
   "execution_count": 7,
   "id": "4f044b62",
   "metadata": {},
   "outputs": [
    {
     "name": "stdout",
     "output_type": "stream",
     "text": [
      "Hi, My name is Sarieh I hope you have a great day!\n",
      " > tts_models/en/ljspeech/tacotron2-DDC is already downloaded.\n",
      " > vocoder_models/en/ljspeech/hifigan_v2 is already downloaded.\n",
      " > Using model: Tacotron2\n",
      " > Model's reduction rate `r` is set to: 1\n",
      " > Vocoder Model: hifigan\n",
      " > Generator Model: hifigan_generator\n",
      " > Discriminator Model: hifigan_discriminator\n",
      "Removing weight norm...\n",
      " > Text: Hi, My name is Sarieh I hope you have a great day!\n",
      " > Text splitted to sentences.\n",
      "['Hi, My name is Sarieh I hope you have a great day!']\n",
      " > Processing time: 1.0416412353515625\n",
      " > Real-time factor: 0.28208131803279074\n",
      " > Saving output to output_speach.wav\n"
     ]
    }
   ],
   "source": [
    "convertTextToSpeach(\"Hi, My name is Sarieh I hope you have a great day!\", os.getcwd());"
   ]
  },
  {
   "cell_type": "code",
   "execution_count": null,
   "id": "fcf53245",
   "metadata": {},
   "outputs": [],
   "source": [
    "IPython.display.Audio(\"./text_to_speach_utils/output_speach/\")"
   ]
  },
  {
   "cell_type": "code",
   "execution_count": null,
   "id": "c4462e8d",
   "metadata": {},
   "outputs": [],
   "source": []
  }
 ],
 "metadata": {
  "kernelspec": {
   "display_name": "Python 3 (ipykernel)",
   "language": "python",
   "name": "python3"
  },
  "language_info": {
   "codemirror_mode": {
    "name": "ipython",
    "version": 3
   },
   "file_extension": ".py",
   "mimetype": "text/x-python",
   "name": "python",
   "nbconvert_exporter": "python",
   "pygments_lexer": "ipython3",
   "version": "3.9.7"
  }
 },
 "nbformat": 4,
 "nbformat_minor": 5
}
