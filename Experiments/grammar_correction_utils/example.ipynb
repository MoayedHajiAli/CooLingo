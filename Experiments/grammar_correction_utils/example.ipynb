{
 "cells": [
  {
   "cell_type": "code",
   "execution_count": 28,
   "id": "48d52d57-a462-4c3c-a621-1234c16faa1e",
   "metadata": {},
   "outputs": [],
   "source": [
    "from grammar_correction import *"
   ]
  },
  {
   "cell_type": "markdown",
   "id": "896fa217-29fc-4131-8bd9-dd4ee8a301c8",
   "metadata": {},
   "source": [
    "### Initialing a GrammarCorrector object which loads the model"
   ]
  },
  {
   "cell_type": "code",
   "execution_count": 29,
   "id": "573f683b-2654-4c17-b7b8-c2741b062aeb",
   "metadata": {},
   "outputs": [],
   "source": [
    "gec = GrammarCorrector()"
   ]
  },
  {
   "cell_type": "markdown",
   "id": "c442ac8c-e236-4cc2-8a22-46efd4cd6e1a",
   "metadata": {},
   "source": [
    "### Taking the user input and feeding it to the model to potentially correct its grammar"
   ]
  },
  {
   "cell_type": "code",
   "execution_count": null,
   "id": "7ccbfbf2-01fe-4ed4-a52b-2e91ba6c555e",
   "metadata": {},
   "outputs": [
    {
     "name": "stdin",
     "output_type": "stream",
     "text": [
      "User:  Hi me name be Abdul Rahman\n"
     ]
    },
    {
     "name": "stdout",
     "output_type": "stream",
     "text": [
      "Bot: You missed a period it should be:\n",
      "Hi me name be Abdul Rahman.\n",
      "\n",
      "Bot: LANGUAGE ERROR:\n",
      "Original Sentence: Hi me name be Abdul Rahman.\n",
      "Corrected Sentence: Hi, my name is Abdul Rahman.\n",
      "\n"
     ]
    },
    {
     "name": "stdin",
     "output_type": "stream",
     "text": [
      "User:  I catched much fishes today\n"
     ]
    },
    {
     "name": "stdout",
     "output_type": "stream",
     "text": [
      "Bot: You missed a period it should be:\n",
      "I catched much fishes today.\n",
      "\n",
      "Bot: LANGUAGE ERROR:\n",
      "Original Sentence: I catched much fishes today.\n",
      "Corrected Sentence: I caught many fish today.\n",
      "\n"
     ]
    },
    {
     "name": "stdin",
     "output_type": "stream",
     "text": [
      "User:  I eated a humbarger for dinner\n"
     ]
    },
    {
     "name": "stdout",
     "output_type": "stream",
     "text": [
      "Bot: You missed a period it should be:\n",
      "I eated a humbarger for dinner.\n",
      "\n",
      "Bot: LANGUAGE ERROR:\n",
      "Original Sentence: I eated a humbarger for dinner.\n",
      "Corrected Sentence: I ate a hamburger for dinner.\n",
      "\n"
     ]
    },
    {
     "name": "stdin",
     "output_type": "stream",
     "text": [
      "User:  Tomorrow I go to the cinema\n"
     ]
    },
    {
     "name": "stdout",
     "output_type": "stream",
     "text": [
      "Bot: You missed a period it should be:\n",
      "Tomorrow I go to the cinema.\n",
      "\n",
      "Bot: LANGUAGE ERROR:\n",
      "Original Sentence: Tomorrow I go to the cinema.\n",
      "Corrected Sentence: Tomorrow I will go to the cinema.\n",
      "\n"
     ]
    }
   ],
   "source": [
    "text = \"\"\n",
    "text = input(\"User: \")\n",
    "while text != \"-1\":\n",
    "    if (not text.endswith('.')) and text[-1].isalpha():\n",
    "        text = text + '.'\n",
    "        print(f'Bot: You missed a period it should be: {text}\\n')\n",
    "    corrected_sentence = gec.correct_grammar(text)\n",
    "    if text != corrected_sentence:\n",
    "        print(f'Bot: LANGUAGE ERROR:\\nOriginal Sentence: {text}\\nCorrected Sentence: {corrected_sentence}\\n')\n",
    "    else:\n",
    "        print(\"Bot: There is no language errors in your sentence!\\n\")\n",
    "    text = input(\"User: \")"
   ]
  }
 ],
 "metadata": {
  "kernelspec": {
   "display_name": "Python 3 (ipykernel)",
   "language": "python",
   "name": "python3"
  },
  "language_info": {
   "codemirror_mode": {
    "name": "ipython",
    "version": 3
   },
   "file_extension": ".py",
   "mimetype": "text/x-python",
   "name": "python",
   "nbconvert_exporter": "python",
   "pygments_lexer": "ipython3",
   "version": "3.9.7"
  }
 },
 "nbformat": 4,
 "nbformat_minor": 5
}
