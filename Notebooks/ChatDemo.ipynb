{
 "cells": [
  {
   "cell_type": "code",
   "execution_count": 1,
   "id": "b20e64b8",
   "metadata": {},
   "outputs": [
    {
     "data": {
      "text/plain": [
       "'/Users/moayedhajiali/Desktop/Projects/CooLingo'"
      ]
     },
     "execution_count": 1,
     "metadata": {},
     "output_type": "execute_result"
    }
   ],
   "source": [
    "import os \n",
    "while not os.getcwd().endswith('CooLingo'):\n",
    "    os.chdir('../')\n",
    "os.getcwd()"
   ]
  },
  {
   "cell_type": "code",
   "execution_count": 2,
   "id": "21e127d2",
   "metadata": {},
   "outputs": [],
   "source": [
    "from src.blenderbot import Blenderbot\n",
    "from src.grammar_correction import GrammarCorrector"
   ]
  },
  {
   "cell_type": "code",
   "execution_count": 3,
   "id": "1414f136",
   "metadata": {},
   "outputs": [],
   "source": [
    "%load_ext autoreload\n",
    "%autoreload 2"
   ]
  },
  {
   "cell_type": "code",
   "execution_count": 19,
   "id": "0222f335",
   "metadata": {},
   "outputs": [],
   "source": [
    "grammarCorrection = GrammarCorrector()\n",
    "chatbot = Blenderbot()"
   ]
  },
  {
   "cell_type": "code",
   "execution_count": 24,
   "id": "15c91e48",
   "metadata": {},
   "outputs": [],
   "source": [
    "def process_response(message, reply_start=None, past=None, check_for_errors=True):\n",
    "    response = None\n",
    "    # process message\n",
    "    if message and (not message.endswith('.')) and message[-1].isalpha():\n",
    "        message = message + '.'\n",
    "    \n",
    "    # check for grammatical errors\n",
    "    if check_for_errors:\n",
    "        corrected_sentence = grammarCorrection.correct_grammar(message)\n",
    "\n",
    "        if corrected_sentence != message:\n",
    "            # correct the grammatical error\n",
    "            response = f\"\"\"I think you might have just made a grammatical error! Your sentece should paraphrased as\n",
    "            '{corrected_sentence}'. Can you try again?\"\"\"\n",
    "    \n",
    "    if response is None:\n",
    "        response, past = chatbot.get_response(message, past=past, reply_start=reply_start)\n",
    "    \n",
    "    return response, past"
   ]
  },
  {
   "cell_type": "code",
   "execution_count": 27,
   "id": "64704bdb",
   "metadata": {},
   "outputs": [
    {
     "data": {
      "text/plain": [
       "\"<s> she was just a horrible person. I am so mad at her right now.   I am going to call her and apologize. I don't want to make it up to her</s>\""
      ]
     },
     "execution_count": 27,
     "metadata": {},
     "output_type": "execute_result"
    }
   ],
   "source": [
    "response"
   ]
  },
  {
   "cell_type": "code",
   "execution_count": 29,
   "id": "84ab3955",
   "metadata": {},
   "outputs": [
    {
     "name": "stdout",
     "output_type": "stream",
     "text": [
      " Hello! This is May and I am here to teach you English. How do you feel?\n",
      "User: I am feel well Thank you\n",
      "User: I am feel well Thank you\n",
      "Bot: I think you might have just made a grammatical error! Your sentece should paraphrased as\n",
      "            'I am feeling well Thank you.'. Can you try again?\n",
      "User: I am feeling well Thank you.\n",
      "User: I am feeling well Thank you.\n",
      "Bot:  That's great to hear. What's going on?  I'm just relaxing.  I just got home from work.\n",
      "User: I am now in the middle of a meeting, but everything are well\n",
      "User: I am now in the middle of a meeting, but everything are well\n",
      "Bot: I think you might have just made a grammatical error! Your sentece should paraphrased as\n",
      "            'I am now in the middle of a meeting, but everything is well.'. Can you try again?\n",
      "User: I am now in the middle of a meeting, but everything is well\n",
      "User: I am now in the middle of a meeting, but everything is well\n",
      "Bot:  I hope everything is going well.  What is the topic of the meeting?   I am glad everything is ok. \n",
      "User: It is about the graduation design project\n",
      "User: It is about the graduation design project\n",
      "Bot:  I have been working on that for a while, I'm so ready to graduate!\n",
      "User: Oh. What do you study?\n",
      "User: Oh. What do you study?\n",
      "Bot: I think you might have just made a grammatical error! Your sentece should paraphrased as\n",
      "            'Oh, what do you study?'. Can you try again?\n",
      "User: Oh, what do you study?\n",
      "User: Oh, what do you study?\n",
      "Bot:  I am studying computer science. I am really looking forward to it. I have been studying for a while now.\n",
      "User: I stuyd the same actually\n",
      "User: I stuyd the same actually\n",
      "Bot: I think you might have just made a grammatical error! Your sentece should paraphrased as\n",
      "            'I really thought the same.'. Can you try again?\n",
      "User: Goodbye gotta go\n",
      "User: Goodbye gotta go\n",
      "Bot: I think you might have just made a grammatical error! Your sentece should paraphrased as\n",
      "            'Goodbye, gotta go.'. Can you try again?\n",
      "User: Goodbye, gotta go.\n",
      "User: Goodbye, gotta go.\n",
      "Bot:  Goodbyes, goodbye. You'll be alright.    Have you ever been to the hospital?\n",
      "User: I need to go. Will see you soon.\n",
      "User: I need to go. Will see you soon.\n",
      "Bot:  I hope so, I'm so excited to see you! I can't wait! \n",
      "User: quite\n",
      "User: quite\n",
      "Bot:  I am so happy to have a good job, but I am also very happy with my life right now.\n",
      "User: quit\n",
      "User: quit\n",
      "Bot: I think you might have just made a grammatical error! Your sentece should paraphrased as\n",
      "            'Quit.'. Can you try again?\n"
     ]
    }
   ],
   "source": [
    "message = None\n",
    "past = None\n",
    "\n",
    "# inital message:\n",
    "welcome_message = \"Hello! This is May and I am here to teach you English.\"\n",
    "response, past = process_response(\"\", reply_start=welcome_message, past=past, check_for_errors=False)\n",
    "print(response)\n",
    "while message != 'quit':\n",
    "    message = input('User: ')\n",
    "    response, past = process_response(message, past=past)\n",
    "#     print('User:', message)\n",
    "    print(\"Bot:\", response)"
   ]
  },
  {
   "cell_type": "code",
   "execution_count": null,
   "id": "3e4697c5",
   "metadata": {},
   "outputs": [],
   "source": []
  }
 ],
 "metadata": {
  "kernelspec": {
   "display_name": "Python 3 (ipykernel)",
   "language": "python",
   "name": "python3"
  },
  "language_info": {
   "codemirror_mode": {
    "name": "ipython",
    "version": 3
   },
   "file_extension": ".py",
   "mimetype": "text/x-python",
   "name": "python",
   "nbconvert_exporter": "python",
   "pygments_lexer": "ipython3",
   "version": "3.8.5"
  }
 },
 "nbformat": 4,
 "nbformat_minor": 5
}
