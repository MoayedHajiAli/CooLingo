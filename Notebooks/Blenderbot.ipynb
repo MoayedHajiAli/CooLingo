{
 "cells": [
  {
   "cell_type": "code",
   "execution_count": 2,
   "metadata": {},
   "outputs": [
    {
     "data": {
      "text/plain": [
       "'/home/sarieh/gitkraken/Graduation-project'"
      ]
     },
     "execution_count": 2,
     "metadata": {},
     "output_type": "execute_result"
    }
   ],
   "source": [
    "import os \n",
    "while not os.path.exists(\"src\"):\n",
    "    os.chdir('../')\n",
    "os.getcwd()"
   ]
  },
  {
   "cell_type": "code",
   "execution_count": 3,
   "metadata": {},
   "outputs": [],
   "source": [
    "from src.blenderbot import Blenderbot"
   ]
  },
  {
   "cell_type": "code",
   "execution_count": 4,
   "metadata": {},
   "outputs": [],
   "source": [
    "%load_ext autoreload\n",
    "%autoreload 2"
   ]
  },
  {
   "cell_type": "code",
   "execution_count": 5,
   "metadata": {},
   "outputs": [],
   "source": [
    "model = Blenderbot()"
   ]
  },
  {
   "cell_type": "code",
   "execution_count": null,
   "metadata": {},
   "outputs": [
    {
     "name": "stdout",
     "output_type": "stream",
     "text": [
      "User: Ji\n"
     ]
    },
    {
     "name": "stderr",
     "output_type": "stream",
     "text": [
      "2022-03-29 12:09:38.158451: W tensorflow/stream_executor/platform/default/dso_loader.cc:59] Could not load dynamic library 'libcudart.so.10.1'; dlerror: libcudart.so.10.1: cannot open shared object file: No such file or directory\n",
      "2022-03-29 12:09:38.158468: I tensorflow/stream_executor/cuda/cudart_stub.cc:29] Ignore above cudart dlerror if you do not have a GPU set up on your machine.\n"
     ]
    },
    {
     "name": "stdout",
     "output_type": "stream",
     "text": [
      "User: Ji\n",
      "Bot: <s> I love the song Ji-I by Jay-Z. Do you know him?</s>\n",
      "User: do you love me\n",
      "User: do you love me\n",
      "Bot: <s> I think I do. I'm not sure I love anyone. I think it's just a feeling. </s>\n",
      "User: ماما\n",
      "User: ماما\n",
      "Bot: <s> Hi, I speak the language of the Arabic language, do you know any languages? </s>\n",
      "User: نعم\n",
      "User: نعم\n",
      "Bot: <s> I am learning about the ancient Greek word \"mìάθίτα\", meaning \"turtle-rabbit\".</s>\n"
     ]
    }
   ],
   "source": [
    "message = None\n",
    "past = None\n",
    "while message != 'quit':\n",
    "    message = input('User: ')\n",
    "    response, past = model.get_response(message, past)\n",
    "    print('User:', message)\n",
    "    print(\"Bot:\", response)\n",
    "    "
   ]
  }
 ],
 "metadata": {
  "kernelspec": {
   "display_name": "Python 3 (ipykernel)",
   "language": "python",
   "name": "python3"
  },
  "language_info": {
   "codemirror_mode": {
    "name": "ipython",
    "version": 3
   },
   "file_extension": ".py",
   "mimetype": "text/x-python",
   "name": "python",
   "nbconvert_exporter": "python",
   "pygments_lexer": "ipython3",
   "version": "3.8.5"
  }
 },
 "nbformat": 4,
 "nbformat_minor": 2
}
