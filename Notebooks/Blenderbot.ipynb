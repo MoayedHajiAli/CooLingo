{
 "cells": [
  {
   "cell_type": "code",
   "execution_count": null,
   "metadata": {},
   "outputs": [],
   "source": [
    "import os \n",
    "while not os.path.exists(\"src\"):\n",
    "    os.chdir('../')\n",
    "os.getcwd()"
   ]
  },
  {
   "cell_type": "code",
   "execution_count": null,
   "metadata": {},
   "outputs": [],
   "source": [
    "from src.blenderbot import Blenderbot"
   ]
  },
  {
   "cell_type": "code",
   "execution_count": null,
   "metadata": {},
   "outputs": [],
   "source": [
    "%load_ext autoreload\n",
    "%autoreload 2"
   ]
  },
  {
   "cell_type": "code",
   "execution_count": null,
   "metadata": {},
   "outputs": [],
   "source": [
    "model = Blenderbot()"
   ]
  },
  {
   "cell_type": "code",
   "execution_count": null,
   "metadata": {},
   "outputs": [],
   "source": [
    "message = None\n",
    "past = None\n",
    "while message != 'quit':\n",
    "    message = input('User: ')\n",
    "    response, past = model.get_response(message, past=past)\n",
    "    print('User:', message)\n",
    "    print(\"Bot:\", response)\n",
    "    "
   ]
  },
  {
   "cell_type": "code",
   "execution_count": null,
   "metadata": {},
   "outputs": [],
   "source": [
    "past = None"
   ]
  },
  {
   "cell_type": "code",
   "execution_count": null,
   "metadata": {},
   "outputs": [],
   "source": [
    "message = \"Why are you talking to me this way?\"\n",
    "reply_start = \"Hello! This is May and I am here to teach you English. We can talk together about anything and through this, I am sure you will learn new things.\"\n",
    "reply_start = None\n",
    "response, past = model.get_response(message, past=past, reply_start=reply_start)\n",
    "print(response)"
   ]
  },
  {
   "cell_type": "code",
   "execution_count": 27,
   "metadata": {},
   "outputs": [
    {
     "name": "stdout",
     "output_type": "stream",
     "text": [
      "tensor([[2]])\n",
      "tensor([[   1,    1,  946,  304,  398, 2144,   38,  281,  398, 4926,  287, 2144,\n",
      "           21,  281,  913,  271, 1539,  303,  917,    8,    2]])\n",
      "<s><s> Do you like music? I like listening to music. I love the Beatles!</s>\n"
     ]
    },
    {
     "name": "stderr",
     "output_type": "stream",
     "text": [
      "2022-03-29 12:09:38.158451: W tensorflow/stream_executor/platform/default/dso_loader.cc:59] Could not load dynamic library 'libcudart.so.10.1'; dlerror: libcudart.so.10.1: cannot open shared object file: No such file or directory\n",
      "2022-03-29 12:09:38.158468: I tensorflow/stream_executor/cuda/cudart_stub.cc:29] Ignore above cudart dlerror if you do not have a GPU set up on your machine.\n"
     ]
    },
    {
     "name": "stdout",
     "output_type": "stream",
     "text": [
      "User: Ji\n",
      "Bot: <s> I love the song Ji-I by Jay-Z. Do you know him?</s>\n",
      "User: do you love me\n",
      "User: do you love me\n",
      "Bot: <s> I think I do. I'm not sure I love anyone. I think it's just a feeling. </s>\n",
      "User: ماما\n",
      "User: ماما\n",
      "Bot: <s> Hi, I speak the language of the Arabic language, do you know any languages? </s>\n",
      "User: نعم\n",
      "User: نعم\n",
      "Bot: <s> I am learning about the ancient Greek word \"mìάθίτα\", meaning \"turtle-rabbit\".</s>\n"
     ]
    }
   ],
   "source": [
    "message = \"\"\n",
    "reply_start = \"Hello! This is May and I am here to teach you English. It is nice\"\n",
    "response, past = model.get_response(message, past=past)\n",
    "print(response)"
   ]
  },
  {
   "cell_type": "code",
   "execution_count": 31,
   "metadata": {},
   "outputs": [
    {
     "ename": "NameError",
     "evalue": "name 'torch' is not defined",
     "output_type": "error",
     "traceback": [
      "\u001b[0;31m---------------------------------------------------------------------------\u001b[0m",
      "\u001b[0;31mNameError\u001b[0m                                 Traceback (most recent call last)",
      "Input \u001b[0;32mIn [31]\u001b[0m, in \u001b[0;36m<cell line: 1>\u001b[0;34m()\u001b[0m\n\u001b[0;32m----> 1\u001b[0m \u001b[43mtorch\u001b[49m\u001b[38;5;241m.\u001b[39mLong\n",
      "\u001b[0;31mNameError\u001b[0m: name 'torch' is not defined"
     ]
    }
   ],
   "source": [
    "torch.Long"
   ]
  },
  {
   "cell_type": "code",
   "execution_count": null,
   "metadata": {},
   "outputs": [],
   "source": []
  }
 ],
 "metadata": {
  "kernelspec": {
   "display_name": "Python 3 (ipykernel)",
   "language": "python",
   "name": "python3"
  },
  "language_info": {
   "codemirror_mode": {
    "name": "ipython",
    "version": 3
   },
   "file_extension": ".py",
   "mimetype": "text/x-python",
   "name": "python",
   "nbconvert_exporter": "python",
   "pygments_lexer": "ipython3",
   "version": "3.8.5"
  }
 },
 "nbformat": 4,
 "nbformat_minor": 2
}
