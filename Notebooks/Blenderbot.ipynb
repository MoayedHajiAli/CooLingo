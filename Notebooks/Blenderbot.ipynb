{
 "cells": [
  {
   "cell_type": "code",
   "execution_count": 1,
   "metadata": {},
   "outputs": [
    {
     "data": {
      "text/plain": [
       "'/Users/moayedhajiali/Desktop/Projects/CooLingo'"
      ]
     },
     "execution_count": 1,
     "metadata": {},
     "output_type": "execute_result"
    }
   ],
   "source": [
    "import os \n",
    "while not os.getcwd().endswith('CooLingo'):\n",
    "    os.chdir('../')\n",
    "os.getcwd()"
   ]
  },
  {
   "cell_type": "code",
   "execution_count": 2,
   "metadata": {},
   "outputs": [],
   "source": [
    "from src.blenderbot import Blenderbot"
   ]
  },
  {
   "cell_type": "code",
   "execution_count": 3,
   "metadata": {},
   "outputs": [],
   "source": [
    "%load_ext autoreload\n",
    "%autoreload 2"
   ]
  },
  {
   "cell_type": "code",
   "execution_count": 10,
   "metadata": {},
   "outputs": [],
   "source": [
    "model = Blenderbot()"
   ]
  },
  {
   "cell_type": "code",
   "execution_count": null,
   "metadata": {},
   "outputs": [
    {
     "name": "stdout",
     "output_type": "stream",
     "text": [
      "User: Hello there \n",
      "User: Hello there \n",
      "Bot: <s> Hi, do you have any hobbies that you do for fun? I enjoy playing video games.</s>\n",
      "User: I like video games as well. I sometimes play football\n",
      "User: I like video games as well. I sometimes play football\n",
      "Bot: <s> I love video games, especially the newest ones like Call of Duty. I also like to play football.</s>\n",
      "User: What is your favorite team\n",
      "User: What is your favorite team\n",
      "Bot: <s><s> I like the Las Vegas Raiders!  I love the way they play and I love that they have won the Superbowl 3 times in the past. </s>\n",
      "User: That is nice!\n",
      "User: That is nice!\n",
      "Bot: <s> It really is!  It was a great feeling to have a good relationship with my family.</s>\n",
      "User: What do you mean? \n",
      "User: What do you mean? \n",
      "Bot: <s> I'm so scared to go to work. I'm scared of what I'll be doing there.</s>\n"
     ]
    }
   ],
   "source": [
    "message = None\n",
    "past = None\n",
    "while message != 'quit':\n",
    "    message = input('User: ')\n",
    "    response, past = model.get_response(message, past)\n",
    "    print('User:', message)\n",
    "    print(\"Bot:\", response)\n",
    "    "
   ]
  },
  {
   "cell_type": "code",
   "execution_count": null,
   "metadata": {},
   "outputs": [],
   "source": []
  }
 ],
 "metadata": {
  "kernelspec": {
   "display_name": "Python 3 (ipykernel)",
   "language": "python",
   "name": "python3"
  },
  "language_info": {
   "codemirror_mode": {
    "name": "ipython",
    "version": 3
   },
   "file_extension": ".py",
   "mimetype": "text/x-python",
   "name": "python",
   "nbconvert_exporter": "python",
   "pygments_lexer": "ipython3",
   "version": "3.8.5"
  }
 },
 "nbformat": 4,
 "nbformat_minor": 2
}
