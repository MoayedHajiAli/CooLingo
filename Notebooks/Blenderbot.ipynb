{
 "cells": [
  {
   "cell_type": "code",
   "execution_count": 2,
   "metadata": {},
   "outputs": [
    {
     "data": {
      "text/plain": [
       "'/scratch/users/mali18/CooLingo'"
      ]
     },
     "execution_count": 2,
     "metadata": {},
     "output_type": "execute_result"
    }
   ],
   "source": [
    "import os \n",
    "while not os.path.exists(\"src\"):\n",
    "    os.chdir('../')\n",
    "os.getcwd()"
   ]
  },
  {
   "cell_type": "code",
   "execution_count": 3,
   "metadata": {},
   "outputs": [],
   "source": [
    "from src.blenderbot import Blenderbot"
   ]
  },
  {
   "cell_type": "code",
   "execution_count": 4,
   "metadata": {},
   "outputs": [],
   "source": [
    "%load_ext autoreload\n",
    "%autoreload 2"
   ]
  },
  {
   "cell_type": "code",
   "execution_count": 4,
   "metadata": {},
   "outputs": [],
   "source": [
    "model = Blenderbot()"
   ]
  },
  {
   "cell_type": "code",
   "execution_count": null,
   "metadata": {},
   "outputs": [
    {
     "name": "stdout",
     "output_type": "stream",
     "text": [
      "User: Hello there\n",
      "User: Hello there\n",
      "Bot: <s> Hi there. How are you? I'm just getting ready to head off to work. I'm an office manager.</s>\n",
      "time: 0.22s\n",
      "User: What does acquire mean?\n",
      "User: What does acquire mean?\n",
      "Bot: <s> It means I am going to have a new job.   I am so happy. </s>\n",
      "time: 0.17s\n"
     ]
    }
   ],
   "source": [
    "import time\n",
    "message = None\n",
    "past = None\n",
    "while message != 'quit':\n",
    "    message = input('User: ')\n",
    "    lst = time.time()\n",
    "    response, past = model.get_response(message, past)\n",
    "    print('User:', message)\n",
    "    print(\"Bot:\", response)\n",
    "    print(f\"time: {time.time()-lst:.2f}s\")\n",
    "    "
   ]
  }
 ],
 "metadata": {
  "kernelspec": {
   "display_name": "Python 3 (ipykernel)",
   "language": "python",
   "name": "python3"
  },
  "language_info": {
   "codemirror_mode": {
    "name": "ipython",
    "version": 3
   },
   "file_extension": ".py",
   "mimetype": "text/x-python",
   "name": "python",
   "nbconvert_exporter": "python",
   "pygments_lexer": "ipython3",
   "version": "3.8.5"
  }
 },
 "nbformat": 4,
 "nbformat_minor": 2
}
