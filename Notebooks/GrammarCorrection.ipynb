{
 "cells": [
  {
   "cell_type": "code",
   "execution_count": 1,
   "id": "mechanical-carrier",
   "metadata": {},
   "outputs": [
    {
     "data": {
      "text/plain": [
       "'/Users/moayedhajiali/Desktop/Projects/CooLingo'"
      ]
     },
     "execution_count": 1,
     "metadata": {},
     "output_type": "execute_result"
    }
   ],
   "source": [
    "import os \n",
    "while not os.getcwd().endswith('CooLingo'):\n",
    "    os.chdir('../')\n",
    "os.getcwd()"
   ]
  },
  {
   "cell_type": "code",
   "execution_count": 2,
   "id": "accredited-stuart",
   "metadata": {},
   "outputs": [],
   "source": [
    "from src.grammar_correction import GrammarCorrector"
   ]
  },
  {
   "cell_type": "markdown",
   "id": "unlikely-canyon",
   "metadata": {},
   "source": [
    "### Initialing a GrammarCorrector object which loads the model"
   ]
  },
  {
   "cell_type": "code",
   "execution_count": 3,
   "id": "military-sailing",
   "metadata": {},
   "outputs": [],
   "source": [
    "gec = GrammarCorrector()"
   ]
  },
  {
   "cell_type": "markdown",
   "id": "filled-monkey",
   "metadata": {},
   "source": [
    "### Taking the user input and feeding it to the model to potentially correct its grammar"
   ]
  },
  {
   "cell_type": "code",
   "execution_count": null,
   "id": "first-assembly",
   "metadata": {},
   "outputs": [
    {
     "name": "stdout",
     "output_type": "stream",
     "text": [
      "User: She no went to the market.\n",
      "Bot: There is no language errors in your sentence!\n",
      "\n"
     ]
    }
   ],
   "source": [
    "\n",
    "text = \"\"\n",
    "text = input(\"User: \")\n",
    "while text != \"-1\":\n",
    "    if (not text.endswith('.')) and text[-1].isalpha():\n",
    "        text = text + '.'\n",
    "    corrected_sentence = gec.correct_grammar(text, \"Grammar:\")\n",
    "    if text != corrected_sentence:\n",
    "        print(f'Bot: LANGUAGE ERROR:\\nOriginal Sentence: {text}\\nCorrected Sentence: {corrected_sentence}\\n')\n",
    "    else:\n",
    "        print(\"Bot: There is no language errors in your sentence!\\n\")\n",
    "    text = input(\"User: \")"
   ]
  },
  {
   "cell_type": "code",
   "execution_count": null,
   "id": "existing-visibility",
   "metadata": {},
   "outputs": [],
   "source": []
  }
 ],
 "metadata": {
  "kernelspec": {
   "display_name": "Python 3 (ipykernel)",
   "language": "python",
   "name": "python3"
  },
  "language_info": {
   "codemirror_mode": {
    "name": "ipython",
    "version": 3
   },
   "file_extension": ".py",
   "mimetype": "text/x-python",
   "name": "python",
   "nbconvert_exporter": "python",
   "pygments_lexer": "ipython3",
   "version": "3.8.5"
  }
 },
 "nbformat": 4,
 "nbformat_minor": 5
}
