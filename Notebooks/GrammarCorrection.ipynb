{
 "cells": [
  {
   "cell_type": "code",
   "execution_count": 4,
   "metadata": {},
   "outputs": [
    {
     "data": {
      "text/plain": [
       "'/scratch/users/mali18/CooLingo'"
      ]
     },
     "execution_count": 4,
     "metadata": {},
     "output_type": "execute_result"
    }
   ],
   "source": [
    "import os \n",
    "while not os.getcwd().endswith('CooLingo'):\n",
    "    os.chdir('../')\n",
    "os.getcwd()"
   ]
  },
  {
   "cell_type": "code",
   "execution_count": 5,
   "metadata": {},
   "outputs": [],
   "source": [
    "from src.grammar_correction import GrammarCorrector"
   ]
  },
  {
   "cell_type": "markdown",
   "metadata": {},
   "source": [
    "### Initialing a GrammarCorrector object which loads the model"
   ]
  },
  {
   "cell_type": "code",
   "execution_count": 6,
   "metadata": {},
   "outputs": [],
   "source": [
    "gec = GrammarCorrector()"
   ]
  },
  {
   "cell_type": "markdown",
   "metadata": {},
   "source": [
    "### Taking the user input and feeding it to the model to potentially correct its grammar"
   ]
  },
  {
   "cell_type": "code",
   "execution_count": null,
   "metadata": {},
   "outputs": [],
   "source": [
    "text = \"\"\n",
    "text = input(\"User: \")\n",
    "while text != \"-1\":\n",
    "    if (not text.endswith('.')) and text[-1].isalpha():\n",
    "        text = text + '.'\n",
    "        print(f'Bot: You missed a period it should be: {text}\\n')\n",
    "    corrected_sentence = gec.correct_grammar(text)\n",
    "    if text != corrected_sentence:\n",
    "        print(f'Bot: LANGUAGE ERROR:\\nOriginal Sentence: {text}\\nCorrected Sentence: {corrected_sentence}\\n')\n",
    "    else:\n",
    "        print(\"Bot: There is no language errors in your sentence!\\n\")\n",
    "    text = input(\"User: \")"
   ]
  },
  {
   "cell_type": "code",
   "execution_count": null,
   "metadata": {},
   "outputs": [],
   "source": []
  }
 ],
 "metadata": {
  "kernelspec": {
   "display_name": "Python (coolingo)",
   "language": "python",
   "name": "coolingo"
  },
  "language_info": {
   "codemirror_mode": {
    "name": "ipython",
    "version": 3
   },
   "file_extension": ".py",
   "mimetype": "text/x-python",
   "name": "python",
   "nbconvert_exporter": "python",
   "pygments_lexer": "ipython3",
   "version": "3.8.5"
  }
 },
 "nbformat": 4,
 "nbformat_minor": 5
}
